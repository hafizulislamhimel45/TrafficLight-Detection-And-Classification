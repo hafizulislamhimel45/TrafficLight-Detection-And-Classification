{
 "cells": [
  {
   "cell_type": "code",
   "execution_count": 1,
   "metadata": {
    "scrolled": true
   },
   "outputs": [
    {
     "name": "stdout",
     "output_type": "stream",
     "text": [
      "3.3.1\n"
     ]
    },
    {
     "name": "stderr",
     "output_type": "stream",
     "text": [
      "C:\\Users\\hafiz\\Anaconda3\\envs\\flow\\lib\\site-packages\\h5py\\__init__.py:36: FutureWarning: Conversion of the second argument of issubdtype from `float` to `np.floating` is deprecated. In future, it will be treated as `np.float64 == np.dtype(float).type`.\n",
      "  from ._conv import register_converters as _register_converters\n",
      "Using TensorFlow backend.\n"
     ]
    }
   ],
   "source": [
    "import glob\n",
    "import sys\n",
    "import os\n",
    "import cv2\n",
    "import numpy as np\n",
    "print(cv2.__version__)\n",
    "%matplotlib inline\n",
    "from matplotlib import pyplot as plt\n",
    "import tensorflow as tf\n",
    "import time\n",
    "from keras.models import Sequential\n",
    "from keras.layers import InputLayer, Input , Conv2D, Dense, Flatten , Reshape , MaxPool2D , Dropout , BatchNormalization\n",
    "from keras.callbacks import EarlyStopping, ModelCheckpoint, TensorBoard\n",
    "from keras.optimizers import Adam\n",
    "from keras.layers.merge import concatenate\n",
    "import keras"
   ]
  },
  {
   "cell_type": "code",
   "execution_count": 2,
   "metadata": {},
   "outputs": [],
   "source": [
    "from data_utils import load_tl_extracts\n",
    "from random_mini_batch import random_mini_batches"
   ]
  },
  {
   "cell_type": "markdown",
   "metadata": {},
   "source": [
    "setting demintion of each image to 64 * 64"
   ]
  },
  {
   "cell_type": "code",
   "execution_count": 3,
   "metadata": {},
   "outputs": [],
   "source": [
    "desired_dim = (64,64)\n",
    "data_dirs = ['data']\n",
    "test_data = ['test']"
   ]
  },
  {
   "cell_type": "markdown",
   "metadata": {},
   "source": [
    "## Importing Data"
   ]
  },
  {
   "cell_type": "code",
   "execution_count": 4,
   "metadata": {},
   "outputs": [
    {
     "name": "stdout",
     "output_type": "stream",
     "text": [
      "x train shape:  (12503, 64, 64, 3)\n",
      "y train shape:  (12503,)\n",
      "x test shape:  (13486, 64, 64, 3)\n",
      "y test shape:  (13486,)\n"
     ]
    }
   ],
   "source": [
    "x_train, y_train = load_tl_extracts(data_dirs, desired_dim)\n",
    "x_test,y_test = load_tl_extracts(test_data, desired_dim)\n",
    "print('x train shape: ',x_train.shape)\n",
    "print('y train shape: ',y_train.shape)\n",
    "print('x test shape: ',x_test.shape)\n",
    "print('y test shape: ',y_test.shape)"
   ]
  },
  {
   "cell_type": "code",
   "execution_count": 5,
   "metadata": {},
   "outputs": [],
   "source": [
    "def show_histogram(y):\n",
    "    y_set = set(y)\n",
    "    y_dict = {y: i for i,y in enumerate(y_set)}\n",
    "    y_n = [y_dict[el] for el in y]\n",
    "    n_classes = len(y_set)\n",
    "    \n",
    "    #distribution of examples per class\n",
    "    plt.hist(y_n, bins=n_classes);\n",
    "    plt.xlabel('Class');\n",
    "    plt.ylabel('Number of samples');\n",
    "    print(y_dict)"
   ]
  },
  {
   "cell_type": "code",
   "execution_count": 6,
   "metadata": {},
   "outputs": [
    {
     "name": "stdout",
     "output_type": "stream",
     "text": [
      "{'green': 0, 'off': 13, 'greenstraightleft': 1, 'greenleft': 2, 'greenright': 12, 'redright': 3, 'background': 4, 'yellow': 6, 'redstraightleft': 8, 'red': 9, 'redleft': 10, 'greenstraightright': 11, 'redstraight': 5, 'greenstraight': 7}\n"
     ]
    },
    {
     "data": {
      "image/png": "[encoded data removed]",
      "text/plain": [
       "<matplotlib.figure.Figure at 0x241ea00f7b8>"
      ]
     },
     "metadata": {},
     "output_type": "display_data"
    }
   ],
   "source": [
    "show_histogram(y_train)"
   ]
  },
  {
   "cell_type": "code",
   "execution_count": 7,
   "metadata": {},
   "outputs": [],
   "source": [
    "#keep only green,red,yellow,off,background\n",
    "relevant = ['green','off','yellow','red','background']\n",
    "x_train = x_train[np.isin(y_train, relevant)]\n",
    "y_train = y_train[np.isin(y_train, relevant)]"
   ]
  },
  {
   "cell_type": "code",
   "execution_count": 8,
   "metadata": {},
   "outputs": [
    {
     "name": "stdout",
     "output_type": "stream",
     "text": [
      "{'off': 0, 'red': 1, 'green': 2, 'background': 3, 'yellow': 4}\n"
     ]
    },
    {
     "data": {
      "image/png": "[encoded data removed]",
      "text/plain": [
       "<matplotlib.figure.Figure at 0x241ea04de80>"
      ]
     },
     "metadata": {},
     "output_type": "display_data"
    }
   ],
   "source": [
    "show_histogram(y_train)"
   ]
  },
  {
   "cell_type": "code",
   "execution_count": 9,
   "metadata": {},
   "outputs": [
    {
     "name": "stdout",
     "output_type": "stream",
     "text": [
      "{'off': 0, 'red': 1, 'green': 2, 'yellow': 3}\n"
     ]
    },
    {
     "data": {
      "image/png": "[encoded data removed]",
      "text/plain": [
       "<matplotlib.figure.Figure at 0x241fe39cb38>"
      ]
     },
     "metadata": {},
     "output_type": "display_data"
    }
   ],
   "source": [
    "show_histogram(y_test)"
   ]
  },
  {
   "cell_type": "code",
   "execution_count": 10,
   "metadata": {},
   "outputs": [],
   "source": [
    "def show_images(images, labels_true, rows, cols, cls=None, random=True, labels_predicted=None):\n",
    "    fig, axes = plt.subplots(rows, cols)\n",
    "    fig.subplots_adjust(hspace=0.37, wspace=0.3)\n",
    "    imidx = 0\n",
    "    for i, ax in enumerate(axes.flat):\n",
    "        while True:\n",
    "            if random:\n",
    "                example = np.random.randint(0, len(images))\n",
    "            else:\n",
    "                example = imidx\n",
    "                imidx += 1\n",
    "            if cls is None or labels_true[example]==cls:\n",
    "                break\n",
    "        if example >= len(images):\n",
    "            return\n",
    "        if len(images.shape)==4:\n",
    "            ax.imshow(images[example,:,:,:]);\n",
    "        else:\n",
    "            ax.imshow(images[example,:,:], cmap='Greys_r');\n",
    "        ax.set_xticks([])\n",
    "        ax.set_yticks([])\n",
    "        if labels_predicted is not None:\n",
    "            str = '{}: true {} pred {}'.format(example, labels_true[example], labels_predicted[example])\n",
    "        else:\n",
    "            str = '{}: true {}'.format(example, labels_true[example])\n",
    "        ax.set_xlabel(str)"
   ]
  },
  {
   "cell_type": "code",
   "execution_count": 11,
   "metadata": {},
   "outputs": [
    {
     "data": {
      "image/png": "[encoded data removed]",
      "text/plain": [
       "<matplotlib.figure.Figure at 0x241ea0c6710>"
      ]
     },
     "metadata": {},
     "output_type": "display_data"
    }
   ],
   "source": [
    "rows = 2\n",
    "cols = 2\n",
    "cls = None\n",
    "show_images(x_train, y_train, rows, cols, cls)"
   ]
  },
  {
   "cell_type": "code",
   "execution_count": 12,
   "metadata": {},
   "outputs": [
    {
     "name": "stdout",
     "output_type": "stream",
     "text": [
      "After keeping Only 5 Classes: \n",
      "x train shape:  (11189, 64, 64, 3)\n",
      "y train shape:  (11189, 1)\n",
      "x test shape:  (13486, 64, 64, 3)\n",
      "y test shape:  (13486, 1)\n"
     ]
    }
   ],
   "source": [
    "print('After keeping Only 5 Classes: ')\n",
    "print('x train shape: ',x_train.shape)\n",
    "print('y train shape: ',y_train.reshape((11189,1)).shape)\n",
    "print('x test shape: ',x_test.shape)\n",
    "print('y test shape: ',y_test.reshape((13486,1)).shape)"
   ]
  },
  {
   "cell_type": "markdown",
   "metadata": {},
   "source": [
    "## Splitting the train set into train set and validation set"
   ]
  },
  {
   "cell_type": "code",
   "execution_count": 13,
   "metadata": {},
   "outputs": [],
   "source": [
    "from sklearn.model_selection import train_test_split\n",
    "x_train, x_validation, y_train, y_validation = train_test_split(x_train,y_train,test_size=0.33, random_state=42)"
   ]
  },
  {
   "cell_type": "markdown",
   "metadata": {},
   "source": [
    "#### Covering each image to a column vector"
   ]
  },
  {
   "cell_type": "code",
   "execution_count": 14,
   "metadata": {},
   "outputs": [
    {
     "name": "stdout",
     "output_type": "stream",
     "text": [
      "x train shape:  (7496, 64, 64, 3)\n",
      "x validation shape:  (3693, 64, 64, 3)\n",
      "x test shape:  (13486, 64, 64, 3)\n"
     ]
    }
   ],
   "source": [
    "print('x train shape: ',x_train.shape)\n",
    "print('x validation shape: ',x_validation.shape)\n",
    "print('x test shape: ',x_test.shape)"
   ]
  },
  {
   "cell_type": "markdown",
   "metadata": {},
   "source": [
    "### Normalize image vectors"
   ]
  },
  {
   "cell_type": "code",
   "execution_count": 15,
   "metadata": {},
   "outputs": [],
   "source": [
    "x_train = x_train/255.\n",
    "x_validation = x_validation/255.\n",
    "x_test = x_test/255."
   ]
  },
  {
   "cell_type": "code",
   "execution_count": 16,
   "metadata": {},
   "outputs": [],
   "source": [
    "def one_hot_matrix(labels, C):\n",
    "    \"\"\"\n",
    "    Creates a matrix where the i-th row corresponds to the ith class number and the jth column\n",
    "                     corresponds to the jth training example. So if example j had a label i. Then entry (i,j) \n",
    "                     will be 1. \n",
    "                     \n",
    "    Arguments:\n",
    "    labels -- vector containing the labels \n",
    "    C -- number of classes, the depth of the one hot dimension\n",
    "    \n",
    "    Returns: \n",
    "    one_hot -- one hot matrix\n",
    "    \"\"\"\n",
    "    \n",
    "    ### START CODE HERE ###\n",
    "    \n",
    "    # Create a tf.constant equal to C (depth), name it 'C'. (approx. 1 line)\n",
    "    C = tf.constant(C, name='C')\n",
    "    \n",
    "    # Use tf.one_hot, be careful with the axis (approx. 1 line)\n",
    "    one_hot_matrix = tf.one_hot(indices=labels, depth=C, axis=0)\n",
    "    \n",
    "    # Create the session (approx. 1 line)\n",
    "    sess = tf.Session()\n",
    "    \n",
    "    # Run the session (approx. 1 line)\n",
    "    one_hot = sess.run(one_hot_matrix)\n",
    "    \n",
    "    # Close the session (approx. 1 line). See method 1 above.\n",
    "    sess.close()\n",
    "    \n",
    "    ### END CODE HERE ###\n",
    "    \n",
    "    return one_hot"
   ]
  },
  {
   "cell_type": "code",
   "execution_count": 17,
   "metadata": {},
   "outputs": [
    {
     "name": "stdout",
     "output_type": "stream",
     "text": [
      "True class of first 5 image ['red' 'green' 'off' 'green' 'background']\n"
     ]
    }
   ],
   "source": [
    "print('True class of first 5 image',y_train[0:5])"
   ]
  },
  {
   "cell_type": "code",
   "execution_count": 18,
   "metadata": {},
   "outputs": [],
   "source": [
    "#setting each class to a integer\n",
    "data = {}\n",
    "data['red'] = 0\n",
    "data['green'] = 1\n",
    "data['off'] = 2\n",
    "data['yellow'] = 3\n",
    "data['background'] = 4\n",
    "\n",
    "def string_to_int(b):\n",
    "    y = b\n",
    "    k = y.shape[0]\n",
    "\n",
    "    for j in range(0,k):\n",
    "        if (y[j]=='0' or y[j]=='1' or y[j]=='2' or y[j]=='3' or y[j]=='4'):\n",
    "            y[j] = y[j]\n",
    "        else:\n",
    "            y[j] = data[y[j]]\n",
    "\n",
    "    y = y.astype(np.int)\n",
    "    return y\n"
   ]
  },
  {
   "cell_type": "markdown",
   "metadata": {},
   "source": [
    "#### one hot matrix convertion"
   ]
  },
  {
   "cell_type": "code",
   "execution_count": 19,
   "metadata": {},
   "outputs": [
    {
     "name": "stdout",
     "output_type": "stream",
     "text": [
      "y train shape:  (5, 7496)\n",
      "y validation shape:  (5, 3693)\n",
      "x test shape:  (5, 13486)\n"
     ]
    }
   ],
   "source": [
    "y_train = one_hot_matrix(string_to_int(y_train),C=5)\n",
    "y_validation = one_hot_matrix(string_to_int(y_validation),C=5)\n",
    "y_test = one_hot_matrix(string_to_int(y_test),C=5)\n",
    "\n",
    "print('y train shape: ',y_train.shape)\n",
    "print('y validation shape: ',y_validation.shape)\n",
    "print('x test shape: ',y_test.shape)"
   ]
  },
  {
   "cell_type": "code",
   "execution_count": 20,
   "metadata": {},
   "outputs": [
    {
     "name": "stdout",
     "output_type": "stream",
     "text": [
      "y train shape:  (7496, 5)\n",
      "y validation shape:  (3693, 5)\n",
      "x test shape:  (13486, 5)\n"
     ]
    }
   ],
   "source": [
    "y_train = y_train.T\n",
    "y_validation = y_validation.T\n",
    "y_test = y_test.T\n",
    "print('y train shape: ',y_train.shape)\n",
    "print('y validation shape: ',y_validation.shape)\n",
    "print('x test shape: ',y_test.shape)"
   ]
  },
  {
   "cell_type": "code",
   "execution_count": 21,
   "metadata": {},
   "outputs": [
    {
     "name": "stdout",
     "output_type": "stream",
     "text": [
      "One hot martrix of first 5 elements:\n",
      "[[1. 0. 0. 0. 0.]\n",
      " [0. 1. 0. 0. 0.]\n",
      " [0. 0. 1. 0. 0.]\n",
      " ...\n",
      " [0. 1. 0. 0. 0.]\n",
      " [1. 0. 0. 0. 0.]\n",
      " [0. 1. 0. 0. 0.]]\n",
      "True Classes of first 5 elements:\n",
      "[0 1 2 1 4]\n"
     ]
    }
   ],
   "source": [
    "print('One hot martrix of first 5 elements:')\n",
    "print(y_train[:,0:5])\n",
    "y_tain_true_class = np.array([label.argmax() for label in y_train])\n",
    "y_validation_true_class = np.array([label.argmax() for label in y_validation])\n",
    "y_test_true_class = np.array([label.argmax() for label in y_test])\n",
    "print('True Classes of first 5 elements:')\n",
    "print(y_tain_true_class[0:5])"
   ]
  },
  {
   "cell_type": "code",
   "execution_count": 22,
   "metadata": {},
   "outputs": [
    {
     "name": "stdout",
     "output_type": "stream",
     "text": [
      "x train shape:  (7496, 64, 64, 3)\n",
      "y train shape:  (7496, 5)\n",
      "x validation shape:  (3693, 64, 64, 3)\n",
      "y validation shape:  (3693, 5)\n",
      "x test shape:  (13486, 64, 64, 3)\n",
      "y test shape:  (13486, 5)\n"
     ]
    }
   ],
   "source": [
    "print('x train shape: ',x_train.shape)\n",
    "print('y train shape: ',y_train.shape)\n",
    "print('x validation shape: ',x_validation.shape)\n",
    "print('y validation shape: ',y_validation.shape)\n",
    "print('x test shape: ',x_test.shape)\n",
    "print('y test shape: ',y_test.shape)"
   ]
  },
  {
   "cell_type": "markdown",
   "metadata": {},
   "source": [
    "### Model"
   ]
  },
  {
   "cell_type": "code",
   "execution_count": 23,
   "metadata": {},
   "outputs": [],
   "source": [
    "def classifier_model():\n",
    "    from keras.layers import Activation, Convolution2D, Dropout, Conv2D\n",
    "    from keras.layers import AveragePooling2D, BatchNormalization\n",
    "    from keras.layers import GlobalAveragePooling2D\n",
    "    from keras.models import Sequential\n",
    "    from keras.layers import Flatten\n",
    "    from keras.models import Model\n",
    "    from keras.layers import Input\n",
    "    from keras.layers import MaxPooling2D\n",
    "    from keras.layers import SeparableConv2D\n",
    "    from keras import layers\n",
    "    from keras.regularizers import l2\n",
    "    \n",
    "    model = Sequential()\n",
    "    model.add(Convolution2D(filters=16, kernel_size=(7, 7), padding='same',\n",
    "                                name='image_array', input_shape=(64,64,3)))\n",
    "    model.add(BatchNormalization())\n",
    "\n",
    "    model.add(Convolution2D(filters=16, kernel_size=(7, 7), padding='same'))\n",
    "    model.add(BatchNormalization())\n",
    "    model.add(Activation('relu'))\n",
    "    model.add(AveragePooling2D(pool_size=(2, 2), padding='same'))\n",
    "\n",
    "    model.add(Dropout(.5))\n",
    "\n",
    "    model.add(Convolution2D(filters=32, kernel_size=(5, 5), padding='same'))\n",
    "    model.add(BatchNormalization())\n",
    "    model.add(Convolution2D(filters=32, kernel_size=(5, 5), padding='same'))\n",
    "    model.add(BatchNormalization())\n",
    "    model.add(Activation('relu'))\n",
    "    model.add(AveragePooling2D(pool_size=(2, 2), padding='same'))\n",
    "    model.add(Dropout(.5))\n",
    "\n",
    "    model.add(Convolution2D(filters=64, kernel_size=(3, 3), padding='same'))\n",
    "    model.add(BatchNormalization())\n",
    "    model.add(Convolution2D(filters=64, kernel_size=(3, 3), padding='same'))\n",
    "    model.add(BatchNormalization())\n",
    "    model.add(Activation('relu'))\n",
    "    model.add(AveragePooling2D(pool_size=(2, 2), padding='same'))\n",
    "    model.add(Dropout(.5))\n",
    "\n",
    "    model.add(Convolution2D(filters=128, kernel_size=(3, 3), padding='same'))\n",
    "    model.add(BatchNormalization())\n",
    "    model.add(Convolution2D(filters=128, kernel_size=(3, 3), padding='same'))\n",
    "    model.add(BatchNormalization())\n",
    "    model.add(Activation('relu'))\n",
    "    model.add(AveragePooling2D(pool_size=(2, 2), padding='same'))\n",
    "    model.add(Dropout(.5))\n",
    "\n",
    "    model.add(Convolution2D(filters=256, kernel_size=(3, 3), padding='same'))\n",
    "    model.add(BatchNormalization())\n",
    "    model.add(Convolution2D(filters=5, kernel_size=(3, 3), padding='same'))\n",
    "    model.add(GlobalAveragePooling2D())\n",
    "    model.add(Activation('softmax',name='predictions'))\n",
    "    \n",
    "    return model"
   ]
  },
  {
   "cell_type": "markdown",
   "metadata": {},
   "source": [
    "### Model Summery"
   ]
  },
  {
   "cell_type": "code",
   "execution_count": 24,
   "metadata": {},
   "outputs": [
    {
     "name": "stdout",
     "output_type": "stream",
     "text": [
      "_________________________________________________________________\n",
      "Layer (type)                 Output Shape              Param #   \n",
      "=================================================================\n",
      "image_array (Conv2D)         (None, 64, 64, 16)        2368      \n",
      "_________________________________________________________________\n",
      "batch_normalization_1 (Batch (None, 64, 64, 16)        64        \n",
      "_________________________________________________________________\n",
      "conv2d_1 (Conv2D)            (None, 64, 64, 16)        12560     \n",
      "_________________________________________________________________\n",
      "batch_normalization_2 (Batch (None, 64, 64, 16)        64        \n",
      "_________________________________________________________________\n",
      "activation_1 (Activation)    (None, 64, 64, 16)        0         \n",
      "_________________________________________________________________\n",
      "average_pooling2d_1 (Average (None, 32, 32, 16)        0         \n",
      "_________________________________________________________________\n",
      "dropout_1 (Dropout)          (None, 32, 32, 16)        0         \n",
      "_________________________________________________________________\n",
      "conv2d_2 (Conv2D)            (None, 32, 32, 32)        12832     \n",
      "_________________________________________________________________\n",
      "batch_normalization_3 (Batch (None, 32, 32, 32)        128       \n",
      "_________________________________________________________________\n",
      "conv2d_3 (Conv2D)            (None, 32, 32, 32)        25632     \n",
      "_________________________________________________________________\n",
      "batch_normalization_4 (Batch (None, 32, 32, 32)        128       \n",
      "_________________________________________________________________\n",
      "activation_2 (Activation)    (None, 32, 32, 32)        0         \n",
      "_________________________________________________________________\n",
      "average_pooling2d_2 (Average (None, 16, 16, 32)        0         \n",
      "_________________________________________________________________\n",
      "dropout_2 (Dropout)          (None, 16, 16, 32)        0         \n",
      "_________________________________________________________________\n",
      "conv2d_4 (Conv2D)            (None, 16, 16, 64)        18496     \n",
      "_________________________________________________________________\n",
      "batch_normalization_5 (Batch (None, 16, 16, 64)        256       \n",
      "_________________________________________________________________\n",
      "conv2d_5 (Conv2D)            (None, 16, 16, 64)        36928     \n",
      "_________________________________________________________________\n",
      "batch_normalization_6 (Batch (None, 16, 16, 64)        256       \n",
      "_________________________________________________________________\n",
      "activation_3 (Activation)    (None, 16, 16, 64)        0         \n",
      "_________________________________________________________________\n",
      "average_pooling2d_3 (Average (None, 8, 8, 64)          0         \n",
      "_________________________________________________________________\n",
      "dropout_3 (Dropout)          (None, 8, 8, 64)          0         \n",
      "_________________________________________________________________\n",
      "conv2d_6 (Conv2D)            (None, 8, 8, 128)         73856     \n",
      "_________________________________________________________________\n",
      "batch_normalization_7 (Batch (None, 8, 8, 128)         512       \n",
      "_________________________________________________________________\n",
      "conv2d_7 (Conv2D)            (None, 8, 8, 128)         147584    \n",
      "_________________________________________________________________\n",
      "batch_normalization_8 (Batch (None, 8, 8, 128)         512       \n",
      "_________________________________________________________________\n",
      "activation_4 (Activation)    (None, 8, 8, 128)         0         \n",
      "_________________________________________________________________\n",
      "average_pooling2d_4 (Average (None, 4, 4, 128)         0         \n",
      "_________________________________________________________________\n",
      "dropout_4 (Dropout)          (None, 4, 4, 128)         0         \n",
      "_________________________________________________________________\n",
      "conv2d_8 (Conv2D)            (None, 4, 4, 256)         295168    \n",
      "_________________________________________________________________\n",
      "batch_normalization_9 (Batch (None, 4, 4, 256)         1024      \n",
      "_________________________________________________________________\n",
      "conv2d_9 (Conv2D)            (None, 4, 4, 5)           11525     \n",
      "_________________________________________________________________\n",
      "global_average_pooling2d_1 ( (None, 5)                 0         \n",
      "_________________________________________________________________\n",
      "predictions (Activation)     (None, 5)                 0         \n",
      "=================================================================\n",
      "Total params: 639,893\n",
      "Trainable params: 638,421\n",
      "Non-trainable params: 1,472\n",
      "_________________________________________________________________\n"
     ]
    }
   ],
   "source": [
    "batch_size = 32\n",
    "num_epochs = 1000\n",
    "do_random_crop = True\n",
    "patience = 10\n",
    "num_classes = 5\n",
    "input_shape = (64, 64, 3)\n",
    "\n",
    "from keras.preprocessing.image import ImageDataGenerator\n",
    "\n",
    "image_generator = ImageDataGenerator(zoom_range = 0.1,\n",
    "                            height_shift_range = 0.1,\n",
    "                            width_shift_range = 0.1,\n",
    "                            rotation_range = 10)\n",
    "\n",
    "# model parameters/compilation\n",
    "model = classifier_model()\n",
    "model.compile(optimizer='adam',\n",
    "              loss='categorical_crossentropy',\n",
    "              metrics=['accuracy'])\n",
    "model.summary()"
   ]
  },
  {
   "cell_type": "markdown",
   "metadata": {},
   "source": [
    "### Train"
   ]
  },
  {
   "cell_type": "code",
   "execution_count": 25,
   "metadata": {},
   "outputs": [
    {
     "name": "stdout",
     "output_type": "stream",
     "text": [
      "Epoch 1/1000\n",
      "234/234 [==============================] - 15s 66ms/step - loss: 0.4036 - acc: 0.8634 - val_loss: 0.4475 - val_acc: 0.8662\n",
      "\n",
      "Epoch 00001: val_loss improved from inf to 0.44750, saving model to weight_tl.h5\n",
      "Epoch 2/1000\n",
      "234/234 [==============================] - 13s 54ms/step - loss: 0.2945 - acc: 0.8993 - val_loss: 0.2289 - val_acc: 0.9266\n",
      "\n",
      "Epoch 00002: val_loss improved from 0.44750 to 0.22886, saving model to weight_tl.h5\n",
      "Epoch 3/1000\n",
      "234/234 [==============================] - 13s 54ms/step - loss: 0.2653 - acc: 0.9107 - val_loss: 0.4078 - val_acc: 0.8800\n",
      "\n",
      "Epoch 00003: val_loss did not improve from 0.22886\n",
      "Epoch 4/1000\n",
      "234/234 [==============================] - 13s 54ms/step - loss: 0.2389 - acc: 0.9187 - val_loss: 0.2334 - val_acc: 0.9247\n",
      "\n",
      "Epoch 00004: val_loss did not improve from 0.22886\n",
      "Epoch 5/1000\n",
      "234/234 [==============================] - 13s 54ms/step - loss: 0.2268 - acc: 0.9196 - val_loss: 0.1750 - val_acc: 0.9448\n",
      "\n",
      "Epoch 00005: val_loss improved from 0.22886 to 0.17499, saving model to weight_tl.h5\n",
      "Epoch 6/1000\n",
      "234/234 [==============================] - 13s 54ms/step - loss: 0.2174 - acc: 0.9240 - val_loss: 0.2287 - val_acc: 0.9282\n",
      "\n",
      "Epoch 00006: val_loss did not improve from 0.17499\n",
      "Epoch 7/1000\n",
      "234/234 [==============================] - 13s 54ms/step - loss: 0.2172 - acc: 0.9259 - val_loss: 0.1942 - val_acc: 0.9399\n",
      "\n",
      "Epoch 00007: val_loss did not improve from 0.17499\n",
      "Epoch 8/1000\n",
      "234/234 [==============================] - 13s 54ms/step - loss: 0.2162 - acc: 0.9257 - val_loss: 0.1751 - val_acc: 0.9439\n",
      "\n",
      "Epoch 00008: val_loss did not improve from 0.17499\n",
      "Epoch 9/1000\n",
      "234/234 [==============================] - 13s 54ms/step - loss: 0.2102 - acc: 0.9257 - val_loss: 0.1653 - val_acc: 0.9510\n",
      "\n",
      "Epoch 00009: val_loss improved from 0.17499 to 0.16531, saving model to weight_tl.h5\n",
      "Epoch 10/1000\n",
      "234/234 [==============================] - 13s 54ms/step - loss: 0.2030 - acc: 0.9314 - val_loss: 0.2098 - val_acc: 0.9315\n",
      "\n",
      "Epoch 00010: val_loss did not improve from 0.16531\n",
      "Epoch 11/1000\n",
      "234/234 [==============================] - 13s 54ms/step - loss: 0.2057 - acc: 0.9287 - val_loss: 0.1588 - val_acc: 0.9477\n",
      "\n",
      "Epoch 00011: val_loss improved from 0.16531 to 0.15876, saving model to weight_tl.h5\n",
      "Epoch 12/1000\n",
      "234/234 [==============================] - 13s 54ms/step - loss: 0.1922 - acc: 0.9364 - val_loss: 0.1525 - val_acc: 0.9475\n",
      "\n",
      "Epoch 00012: val_loss improved from 0.15876 to 0.15249, saving model to weight_tl.h5\n",
      "Epoch 13/1000\n",
      "234/234 [==============================] - 13s 54ms/step - loss: 0.1973 - acc: 0.9312 - val_loss: 0.1712 - val_acc: 0.9475\n",
      "\n",
      "Epoch 00013: val_loss did not improve from 0.15249\n",
      "Epoch 14/1000\n",
      "234/234 [==============================] - 13s 54ms/step - loss: 0.1889 - acc: 0.9372 - val_loss: 0.1854 - val_acc: 0.9412\n",
      "\n",
      "Epoch 00014: val_loss did not improve from 0.15249\n",
      "Epoch 15/1000\n",
      "234/234 [==============================] - 13s 54ms/step - loss: 0.1972 - acc: 0.9307 - val_loss: 0.1560 - val_acc: 0.9526\n",
      "\n",
      "Epoch 00015: val_loss did not improve from 0.15249\n",
      "Epoch 16/1000\n",
      "234/234 [==============================] - 13s 54ms/step - loss: 0.1934 - acc: 0.9348 - val_loss: 0.2125 - val_acc: 0.9293\n",
      "\n",
      "Epoch 00016: val_loss did not improve from 0.15249\n",
      "Epoch 17/1000\n",
      "234/234 [==============================] - 13s 54ms/step - loss: 0.1883 - acc: 0.9344 - val_loss: 0.1688 - val_acc: 0.9431\n",
      "\n",
      "Epoch 00017: val_loss did not improve from 0.15249\n",
      "\n",
      "Epoch 00017: ReduceLROnPlateau reducing learning rate to 0.00010000000474974513.\n",
      "Epoch 18/1000\n",
      "234/234 [==============================] - 13s 54ms/step - loss: 0.1638 - acc: 0.9410 - val_loss: 0.1287 - val_acc: 0.9534\n",
      "\n",
      "Epoch 00018: val_loss improved from 0.15249 to 0.12866, saving model to weight_tl.h5\n",
      "Epoch 19/1000\n",
      "234/234 [==============================] - 13s 54ms/step - loss: 0.1538 - acc: 0.9438 - val_loss: 0.1270 - val_acc: 0.9575\n",
      "\n",
      "Epoch 00019: val_loss improved from 0.12866 to 0.12696, saving model to weight_tl.h5\n",
      "Epoch 20/1000\n",
      "234/234 [==============================] - 13s 54ms/step - loss: 0.1611 - acc: 0.9396 - val_loss: 0.1296 - val_acc: 0.9561\n",
      "\n",
      "Epoch 00020: val_loss did not improve from 0.12696\n",
      "Epoch 21/1000\n",
      "234/234 [==============================] - 13s 54ms/step - loss: 0.1516 - acc: 0.9467 - val_loss: 0.1259 - val_acc: 0.9559\n",
      "\n",
      "Epoch 00021: val_loss improved from 0.12696 to 0.12587, saving model to weight_tl.h5\n",
      "Epoch 22/1000\n",
      "234/234 [==============================] - 13s 54ms/step - loss: 0.1538 - acc: 0.9450 - val_loss: 0.1241 - val_acc: 0.9583\n",
      "\n",
      "Epoch 00022: val_loss improved from 0.12587 to 0.12410, saving model to weight_tl.h5\n",
      "Epoch 23/1000\n",
      "234/234 [==============================] - 13s 54ms/step - loss: 0.1524 - acc: 0.9460 - val_loss: 0.1241 - val_acc: 0.9578\n",
      "\n",
      "Epoch 00023: val_loss improved from 0.12410 to 0.12405, saving model to weight_tl.h5\n",
      "Epoch 24/1000\n",
      "234/234 [==============================] - 13s 54ms/step - loss: 0.1516 - acc: 0.9486 - val_loss: 0.1248 - val_acc: 0.9575\n",
      "\n",
      "Epoch 00024: val_loss did not improve from 0.12405\n",
      "Epoch 25/1000\n",
      "234/234 [==============================] - 13s 54ms/step - loss: 0.1582 - acc: 0.9440 - val_loss: 0.1235 - val_acc: 0.9586\n",
      "\n",
      "Epoch 00025: val_loss improved from 0.12405 to 0.12348, saving model to weight_tl.h5\n",
      "Epoch 26/1000\n",
      "234/234 [==============================] - 13s 54ms/step - loss: 0.1548 - acc: 0.9440 - val_loss: 0.1229 - val_acc: 0.9578\n",
      "\n",
      "Epoch 00026: val_loss improved from 0.12348 to 0.12286, saving model to weight_tl.h5\n",
      "Epoch 27/1000\n",
      "234/234 [==============================] - 13s 54ms/step - loss: 0.1524 - acc: 0.9464 - val_loss: 0.1271 - val_acc: 0.9578\n",
      "\n",
      "Epoch 00027: val_loss did not improve from 0.12286\n",
      "Epoch 28/1000\n",
      "234/234 [==============================] - 13s 54ms/step - loss: 0.1489 - acc: 0.9452 - val_loss: 0.1219 - val_acc: 0.9578\n",
      "\n",
      "Epoch 00028: val_loss improved from 0.12286 to 0.12193, saving model to weight_tl.h5\n",
      "Epoch 29/1000\n",
      "234/234 [==============================] - 13s 54ms/step - loss: 0.1475 - acc: 0.9464 - val_loss: 0.1228 - val_acc: 0.9591\n",
      "\n",
      "Epoch 00029: val_loss did not improve from 0.12193\n",
      "Epoch 30/1000\n",
      "234/234 [==============================] - 13s 53ms/step - loss: 0.1470 - acc: 0.9466 - val_loss: 0.1210 - val_acc: 0.9583\n",
      "\n",
      "Epoch 00030: val_loss improved from 0.12193 to 0.12105, saving model to weight_tl.h5\n",
      "Epoch 31/1000\n",
      "234/234 [==============================] - 13s 54ms/step - loss: 0.1526 - acc: 0.9452 - val_loss: 0.1232 - val_acc: 0.9602\n",
      "\n",
      "Epoch 00031: val_loss did not improve from 0.12105\n",
      "Epoch 32/1000\n",
      "234/234 [==============================] - 13s 54ms/step - loss: 0.1490 - acc: 0.9485 - val_loss: 0.1258 - val_acc: 0.9597\n",
      "\n",
      "Epoch 00032: val_loss did not improve from 0.12105\n",
      "Epoch 33/1000\n",
      "234/234 [==============================] - 13s 54ms/step - loss: 0.1487 - acc: 0.9482 - val_loss: 0.1235 - val_acc: 0.9586\n",
      "\n",
      "Epoch 00033: val_loss did not improve from 0.12105\n",
      "Epoch 34/1000\n",
      "234/234 [==============================] - 13s 54ms/step - loss: 0.1490 - acc: 0.9486 - val_loss: 0.1211 - val_acc: 0.9583\n",
      "\n",
      "Epoch 00034: val_loss did not improve from 0.12105\n",
      "Epoch 35/1000\n",
      "234/234 [==============================] - 13s 54ms/step - loss: 0.1406 - acc: 0.9493 - val_loss: 0.1213 - val_acc: 0.96050.949\n",
      "\n",
      "Epoch 00035: val_loss did not improve from 0.12105\n",
      "\n",
      "Epoch 00035: ReduceLROnPlateau reducing learning rate to 1.0000000474974514e-05.\n",
      "Epoch 36/1000\n",
      "234/234 [==============================] - 13s 54ms/step - loss: 0.1424 - acc: 0.9505 - val_loss: 0.1211 - val_acc: 0.9605\n",
      "\n",
      "Epoch 00036: val_loss did not improve from 0.12105\n",
      "Epoch 37/1000\n",
      "234/234 [==============================] - 13s 54ms/step - loss: 0.1513 - acc: 0.9467 - val_loss: 0.1201 - val_acc: 0.9607\n",
      "\n",
      "Epoch 00037: val_loss improved from 0.12105 to 0.12012, saving model to weight_tl.h5\n",
      "Epoch 38/1000\n",
      "234/234 [==============================] - 13s 54ms/step - loss: 0.1471 - acc: 0.9472 - val_loss: 0.1207 - val_acc: 0.9605\n",
      "\n",
      "Epoch 00038: val_loss did not improve from 0.12012\n",
      "Epoch 39/1000\n",
      "234/234 [==============================] - 13s 54ms/step - loss: 0.1376 - acc: 0.9493 - val_loss: 0.1205 - val_acc: 0.9602\n",
      "\n",
      "Epoch 00039: val_loss did not improve from 0.12012\n",
      "Epoch 40/1000\n"
     ]
    },
    {
     "name": "stdout",
     "output_type": "stream",
     "text": [
      "234/234 [==============================] - 13s 54ms/step - loss: 0.1441 - acc: 0.9459 - val_loss: 0.1204 - val_acc: 0.9605\n",
      "\n",
      "Epoch 00040: val_loss did not improve from 0.12012\n",
      "Epoch 41/1000\n",
      "234/234 [==============================] - 13s 54ms/step - loss: 0.1381 - acc: 0.9503 - val_loss: 0.1201 - val_acc: 0.9621\n",
      "\n",
      "Epoch 00041: val_loss improved from 0.12012 to 0.12009, saving model to weight_tl.h5\n",
      "Epoch 42/1000\n",
      "234/234 [==============================] - 13s 54ms/step - loss: 0.1414 - acc: 0.9471 - val_loss: 0.1208 - val_acc: 0.9607\n",
      "\n",
      "Epoch 00042: val_loss did not improve from 0.12009\n",
      "\n",
      "Epoch 00042: ReduceLROnPlateau reducing learning rate to 1.0000000656873453e-06.\n",
      "Epoch 43/1000\n",
      "234/234 [==============================] - 13s 54ms/step - loss: 0.1399 - acc: 0.9502 - val_loss: 0.1205 - val_acc: 0.9605 5s -\n",
      "\n",
      "Epoch 00043: val_loss did not improve from 0.12009\n",
      "Epoch 44/1000\n",
      "234/234 [==============================] - 13s 54ms/step - loss: 0.1416 - acc: 0.9526 - val_loss: 0.1204 - val_acc: 0.9607\n",
      "\n",
      "Epoch 00044: val_loss did not improve from 0.12009\n",
      "Epoch 45/1000\n",
      "234/234 [==============================] - 13s 54ms/step - loss: 0.1437 - acc: 0.9475 - val_loss: 0.1203 - val_acc: 0.9605\n",
      "\n",
      "Epoch 00045: val_loss did not improve from 0.12009\n",
      "Epoch 46/1000\n",
      "234/234 [==============================] - 13s 54ms/step - loss: 0.1398 - acc: 0.9522 - val_loss: 0.1205 - val_acc: 0.9599\n",
      "\n",
      "Epoch 00046: val_loss did not improve from 0.12009\n",
      "Epoch 47/1000\n",
      "234/234 [==============================] - 13s 54ms/step - loss: 0.1491 - acc: 0.9454 - val_loss: 0.1204 - val_acc: 0.9602\n",
      "\n",
      "Epoch 00047: val_loss did not improve from 0.12009\n",
      "\n",
      "Epoch 00047: ReduceLROnPlateau reducing learning rate to 1.0000001111620805e-07.\n",
      "Epoch 48/1000\n",
      "234/234 [==============================] - 13s 54ms/step - loss: 0.1431 - acc: 0.9470 - val_loss: 0.1203 - val_acc: 0.9602\n",
      "\n",
      "Epoch 00048: val_loss did not improve from 0.12009\n",
      "Epoch 49/1000\n",
      "234/234 [==============================] - 13s 54ms/step - loss: 0.1399 - acc: 0.9482 - val_loss: 0.1205 - val_acc: 0.9602\n",
      "\n",
      "Epoch 00049: val_loss did not improve from 0.12009\n",
      "Epoch 50/1000\n",
      "234/234 [==============================] - 13s 54ms/step - loss: 0.1508 - acc: 0.9471 - val_loss: 0.1205 - val_acc: 0.9605\n",
      "\n",
      "Epoch 00050: val_loss did not improve from 0.12009\n",
      "Epoch 51/1000\n",
      "234/234 [==============================] - 13s 54ms/step - loss: 0.1444 - acc: 0.9503 - val_loss: 0.1203 - val_acc: 0.9602.\n",
      "\n",
      "Epoch 00051: val_loss did not improve from 0.12009\n"
     ]
    }
   ],
   "source": [
    "# model callbacks\n",
    "from keras.callbacks import CSVLogger, ModelCheckpoint, EarlyStopping\n",
    "from keras.callbacks import ReduceLROnPlateau\n",
    "from keras.preprocessing.image import ImageDataGenerator\n",
    "\n",
    "early_stop = EarlyStopping('val_loss', patience=patience)\n",
    "reduce_lr = ReduceLROnPlateau('val_loss', factor=0.1,\n",
    "                              patience=int(patience/2), verbose=1)\n",
    "\n",
    "model_checkpoint = ModelCheckpoint('weight_tl.h5',\n",
    "                                   monitor='val_loss',\n",
    "                                   verbose=1,\n",
    "                                   save_best_only=True,\n",
    "                                   save_weights_only=False)\n",
    "callbacks = [model_checkpoint, early_stop, reduce_lr]\n",
    "\n",
    "# training model\n",
    "hist = model.fit_generator(image_generator.flow(x_train, y_train, batch_size=batch_size),\n",
    "                    steps_per_epoch=int(x_train.shape[0] / batch_size),\n",
    "                    epochs=num_epochs, verbose=1,\n",
    "                    callbacks=callbacks,\n",
    "                    validation_data=(x_validation, y_validation))\n"
   ]
  },
  {
   "cell_type": "code",
   "execution_count": 26,
   "metadata": {},
   "outputs": [],
   "source": [
    "model.load_weights(\"weight_tl.h5\")"
   ]
  },
  {
   "cell_type": "code",
   "execution_count": 27,
   "metadata": {},
   "outputs": [
    {
     "name": "stdout",
     "output_type": "stream",
     "text": [
      "Final loss: 0.1201, final accuracy: 0.9621\n"
     ]
    }
   ],
   "source": [
    "final_loss, final_acc = model.evaluate(x_validation, y_validation, verbose=0)\n",
    "print(\"Final loss: {0:.4f}, final accuracy: {1:.4f}\".format(final_loss, final_acc))"
   ]
  },
  {
   "cell_type": "code",
   "execution_count": 28,
   "metadata": {},
   "outputs": [
    {
     "data": {
      "image/png": "[encoded data removed]",
      "text/plain": [
       "<matplotlib.figure.Figure at 0x241fd2d8438>"
      ]
     },
     "metadata": {},
     "output_type": "display_data"
    },
    {
     "data": {
      "image/png": "[encoded data removed]",
      "text/plain": [
       "<matplotlib.figure.Figure at 0x241fd301f98>"
      ]
     },
     "metadata": {},
     "output_type": "display_data"
    }
   ],
   "source": [
    "plt.plot(hist.history['loss'], color='b')\n",
    "plt.plot(hist.history['val_loss'], color='r')\n",
    "plt.show()\n",
    "plt.plot(hist.history['acc'], color='b')\n",
    "plt.plot(hist.history['val_acc'], color='r')\n",
    "plt.show()"
   ]
  },
  {
   "cell_type": "markdown",
   "metadata": {},
   "source": [
    "### Predicting Classes"
   ]
  },
  {
   "cell_type": "code",
   "execution_count": 29,
   "metadata": {},
   "outputs": [],
   "source": [
    "import time\n",
    "st = time.time()\n",
    "y_train_pred = model.predict(x=x_train)\n",
    "y_train_pred = np.argmax(y_train_pred,axis=1)\n",
    "y_val_pred = model.predict(x=x_validation)\n",
    "y_val_pred = np.argmax(y_val_pred,axis=1)\n",
    "y_test_pred = model.predict(x=x_test)\n",
    "y_test_pred = np.argmax(y_test_pred,axis=1)\n",
    "en = time.time()\n",
    "t = en - st"
   ]
  },
  {
   "cell_type": "markdown",
   "metadata": {},
   "source": [
    "### Evaluating Result"
   ]
  },
  {
   "cell_type": "code",
   "execution_count": 30,
   "metadata": {},
   "outputs": [
    {
     "name": "stdout",
     "output_type": "stream",
     "text": [
      "train accuricy: 0.958511\n",
      "validation accuricy: 0.962090\n"
     ]
    }
   ],
   "source": [
    "from sklearn.metrics import classification_report\n",
    "from sklearn.metrics import accuracy_score\n",
    "target_names = ['class 0', 'class 1', 'class 2', 'class 3','class 4']\n",
    "\n",
    "print(\"train accuricy: %f\" % accuracy_score(y_tain_true_class, y_train_pred))\n",
    "print(\"validation accuricy: %f\" % accuracy_score(y_validation_true_class, y_val_pred))"
   ]
  },
  {
   "cell_type": "code",
   "execution_count": 31,
   "metadata": {},
   "outputs": [
    {
     "name": "stdout",
     "output_type": "stream",
     "text": [
      "             precision    recall  f1-score   support\n",
      "\n",
      "    class 0       0.94      0.97      0.96      1011\n",
      "    class 1       0.98      0.99      0.99      1705\n",
      "    class 2       0.88      0.82      0.85       240\n",
      "    class 3       0.85      0.60      0.71       139\n",
      "    class 4       0.99      1.00      0.99       598\n",
      "\n",
      "avg / total       0.96      0.96      0.96      3693\n",
      "\n"
     ]
    }
   ],
   "source": [
    "print(classification_report(y_validation_true_class, y_val_pred, target_names=target_names))"
   ]
  },
  {
   "cell_type": "code",
   "execution_count": 32,
   "metadata": {},
   "outputs": [
    {
     "name": "stdout",
     "output_type": "stream",
     "text": [
      "test accuricy: 0.976420\n"
     ]
    }
   ],
   "source": [
    "print(\"test accuricy: %f\" % accuracy_score(y_test_true_class, y_test_pred))"
   ]
  },
  {
   "cell_type": "code",
   "execution_count": 33,
   "metadata": {},
   "outputs": [
    {
     "name": "stdout",
     "output_type": "stream",
     "text": [
      "             precision    recall  f1-score   support\n",
      "\n",
      "    class 0       0.98      1.00      0.99      5321\n",
      "    class 1       0.99      0.99      0.99      7569\n",
      "    class 2       0.76      0.45      0.56       442\n",
      "    class 3       0.74      1.00      0.85       154\n",
      "    class 4       0.00      0.00      0.00         0\n",
      "\n",
      "avg / total       0.98      0.98      0.97     13486\n",
      "\n"
     ]
    },
    {
     "name": "stderr",
     "output_type": "stream",
     "text": [
      "C:\\Users\\hafiz\\Anaconda3\\envs\\flow\\lib\\site-packages\\sklearn\\metrics\\classification.py:1137: UndefinedMetricWarning: Recall and F-score are ill-defined and being set to 0.0 in labels with no true samples.\n",
      "  'recall', 'true', average, warn_for)\n"
     ]
    }
   ],
   "source": [
    "print(classification_report(y_test_true_class, y_test_pred, target_names=target_names))"
   ]
  },
  {
   "cell_type": "markdown",
   "metadata": {},
   "source": [
    "### Calculating Single image processing time"
   ]
  },
  {
   "cell_type": "code",
   "execution_count": 34,
   "metadata": {},
   "outputs": [
    {
     "name": "stdout",
     "output_type": "stream",
     "text": [
      "Single image prediction time: 943.8135147094727 ms\n"
     ]
    }
   ],
   "source": [
    "total_images = y_train.shape[1] + y_validation.shape[1] + y_test.shape[1]\n",
    "print(\"Single image prediction time: %s ms\" % (((t)/total_images)*1000))"
   ]
  },
  {
   "cell_type": "code",
   "execution_count": 35,
   "metadata": {},
   "outputs": [],
   "source": [
    "from sklearn.metrics import confusion_matrix\n",
    "import itertools\n",
    "def plot_confusion_matrix(cm, classes,\n",
    "                          normalize=False,\n",
    "                          title='Confusion matrix',\n",
    "                          cmap=plt.cm.Blues):\n",
    "\n",
    "    plt.imshow(cm, interpolation='nearest', cmap=cmap)\n",
    "    plt.title(title)\n",
    "    plt.colorbar()\n",
    "    tick_marks = np.arange(len(classes))\n",
    "    plt.xticks(tick_marks, classes, rotation=45)\n",
    "    plt.yticks(tick_marks, classes)\n",
    "\n",
    "    fmt = '.2f' if normalize else 'd'\n",
    "    thresh = cm.max() / 2.\n",
    "    for i, j in itertools.product(range(cm.shape[0]), range(cm.shape[1])):\n",
    "        plt.text(j, i, format(cm[i, j], fmt),\n",
    "                 horizontalalignment=\"center\",\n",
    "                 color=\"white\" if cm[i, j] > thresh else \"black\")\n",
    "\n",
    "    plt.tight_layout()\n",
    "    plt.ylabel('True label')\n",
    "    plt.xlabel('Predicted label')"
   ]
  },
  {
   "cell_type": "code",
   "execution_count": 36,
   "metadata": {
    "scrolled": true
   },
   "outputs": [
    {
     "data": {
      "image/png": "[encoded data removed]",
      "text/plain": [
       "<matplotlib.figure.Figure at 0x241e3fbb240>"
      ]
     },
     "metadata": {},
     "output_type": "display_data"
    }
   ],
   "source": [
    "cnf_matrix = confusion_matrix(y_validation_true_class,y_val_pred)\n",
    "class_names =  ['red','green','off','yellow','background']\n",
    "plt.figure(figsize = (8,6))\n",
    "plot_confusion_matrix(cnf_matrix, classes=class_names,\n",
    "                      title='Confusion matrix of Validation Set')"
   ]
  },
  {
   "cell_type": "code",
   "execution_count": 37,
   "metadata": {},
   "outputs": [
    {
     "data": {
      "image/png": "[encoded data removed]",
      "text/plain": [
       "<matplotlib.figure.Figure at 0x241fd1fd390>"
      ]
     },
     "metadata": {},
     "output_type": "display_data"
    }
   ],
   "source": [
    "cnf_matrix = confusion_matrix(y_test_true_class,y_test_pred)\n",
    "plt.figure(figsize = (8,6))\n",
    "plot_confusion_matrix(cnf_matrix, classes=class_names,\n",
    "                      title='Confusion matrix of Test Set')"
   ]
  },
  {
   "cell_type": "code",
   "execution_count": null,
   "metadata": {},
   "outputs": [],
   "source": []
  }
 ],
 "metadata": {
  "kernelspec": {
   "display_name": "Python 3",
   "language": "python",
   "name": "python3"
  },
  "language_info": {
   "codemirror_mode": {
    "name": "ipython",
    "version": 3
   },
   "file_extension": ".py",
   "mimetype": "text/x-python",
   "name": "python",
   "nbconvert_exporter": "python",
   "pygments_lexer": "ipython3",
   "version": "3.5.5"
  }
 },
 "nbformat": 4,
 "nbformat_minor": 2
}
